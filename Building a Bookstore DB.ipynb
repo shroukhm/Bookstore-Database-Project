{
 "cells": [
  {
   "cell_type": "markdown",
   "metadata": {},
   "source": [
    "#### Requirement 1: Create Database and Tables\n"
   ]
  },
  {
   "cell_type": "code",
   "execution_count": 2,
   "metadata": {},
   "outputs": [],
   "source": [
    "import sqlite3  # Importing the sqlite3 module to interact with SQLite databases\n",
    "\n",
    "# Connect to SQLite database\n",
    "# Creates a new database file named \"Bookstore.db\" if it doesn't exist,\n",
    "# or connects to the existing database file.\n",
    "conn = sqlite3.connect(\"Bookstore.db\")\n",
    "\n",
    "# Create a cursor object\n",
    "# The cursor is used to execute SQL commands and interact with the database.\n",
    "cursor = conn.cursor()\n"
   ]
  },
  {
   "cell_type": "code",
   "execution_count": 4,
   "metadata": {},
   "outputs": [
    {
     "data": {
      "text/plain": [
       "<sqlite3.Cursor at 0x1df60988340>"
      ]
     },
     "execution_count": 4,
     "metadata": {},
     "output_type": "execute_result"
    }
   ],
   "source": [
    "# Create the \"Authors\" table\n",
    "cursor.execute(\"\"\"\n",
    "CREATE TABLE IF NOT EXISTS Authors (\n",
    "    AuthorID INTEGER PRIMARY KEY AUTOINCREMENT,  -- Unique identifier for each author, automatically incremented\n",
    "    Name TEXT NOT NULL                           -- Author's name, cannot be null\n",
    ");\n",
    "\"\"\")\n",
    "\n",
    "# Create the \"Books\" table\n",
    "cursor.execute(\"\"\"\n",
    "CREATE TABLE IF NOT EXISTS Books (\n",
    "    BookID INTEGER PRIMARY KEY AUTOINCREMENT,    -- Unique identifier for each book, automatically incremented\n",
    "    Title TEXT NOT NULL,                         -- Book title, cannot be null\n",
    "    AuthorID INTEGER NOT NULL,                   -- Foreign key referencing the author's ID, cannot be null\n",
    "    Price REAL NOT NULL,                         -- Price of the book, must be a numeric value and cannot be null\n",
    "    FOREIGN KEY (AuthorID) REFERENCES Authors (AuthorID)  -- Establishes a relationship between Books and Authors\n",
    ");\n",
    "\"\"\")\n",
    "\n",
    "# Create the \"Sales\" table\n",
    "cursor.execute(\"\"\"\n",
    "CREATE TABLE IF NOT EXISTS Sales (\n",
    "    SaleID INTEGER PRIMARY KEY AUTOINCREMENT,    -- Unique identifier for each sale, automatically incremented\n",
    "    BookID INTEGER NOT NULL,                     -- Foreign key referencing the book's ID, cannot be null\n",
    "    Quantity INTEGER NOT NULL,                   -- Number of books sold, cannot be null\n",
    "    SaleDate TEXT NOT NULL,                      -- Date of the sale, stored as text (e.g., \"YYYY-MM-DD\")\n",
    "    FOREIGN KEY (BookID) REFERENCES Books (BookID)  -- Establishes a relationship between Sales and Books\n",
    ");\n",
    "\"\"\")\n"
   ]
  },
  {
   "cell_type": "markdown",
   "metadata": {},
   "source": [
    "#### Requirement 2: Insert Sample Data\n"
   ]
  },
  {
   "cell_type": "code",
   "execution_count": 5,
   "metadata": {},
   "outputs": [],
   "source": [
    "def check_missing_values(data, keys):\n",
    "    \"\"\"\n",
    "    Checks for missing values in a list of data rows and identifies which rows and columns have issues.\n",
    "\n",
    "    \"\"\"\n",
    "    missing = []  # Initialize an empty list to store information about missing values\n",
    "    for i, row in enumerate(data, start=1):  # Iterate over each row in the data with a 1-based index\n",
    "        for key in keys:  # Iterate over the column names (keys)\n",
    "            # Check if the value in the current column is None, an empty string, or a blank space\n",
    "            if row[keys.index(key)] in (None, \"\", \" \"):\n",
    "                # Append a formatted string to the missing list indicating the row and missing column\n",
    "                missing.append(f\"Row {i}: Missing {key}\")\n",
    "    return missing  # Return the list of missing value descriptions\n"
   ]
  },
  {
   "cell_type": "code",
   "execution_count": 6,
   "metadata": {},
   "outputs": [
    {
     "name": "stdout",
     "output_type": "stream",
     "text": [
      "Authors successfully inserted.\n",
      "\n",
      "----------------------------------------------------------------\n",
      "\n",
      "Books successfully inserted.\n",
      "\n",
      "----------------------------------------------------------------\n",
      "\n",
      "Sales successfully inserted.\n",
      "\n",
      "----------------------------------------------------------------\n",
      "\n",
      "All changes committed to the database.\n"
     ]
    }
   ],
   "source": [
    "# Insert Authors\n",
    "authors = [\n",
    "    (\"James Clear\"),          # Author of Atomic Habits\n",
    "    (\"J.K. Rowling\"),         # Author of Harry Potter\n",
    "    (\"Charles Dickens\"),      # Author of multiple classics\n",
    "    (\"Anonymous\"),            # Placeholder for another book\n",
    "    (\"Mark Twain\")            # Author of Adventures of Huckleberry Finn\n",
    "]\n",
    "\n",
    "# Check for missing values in authors\n",
    "missing_authors = check_missing_values(authors, [\"Name\"])  # Check if any author names are missing\n",
    "if missing_authors:\n",
    "    print(\"Missing values in Authors:\")  # Notify about missing values in the authors dataset\n",
    "    for error in missing_authors:\n",
    "        print(error)  # Print details of the missing values\n",
    "else:\n",
    "    # Insert author data into the Authors table\n",
    "    # List comprehension converts each author name into a tuple structure suitable for insertion\n",
    "    cursor.executemany(\"INSERT INTO Authors (Name) VALUES (?)\", [(author,) for author in authors])\n",
    "    print(\"Authors successfully inserted.\")  # Confirm successful insertion\n",
    "\n",
    "print('\\n----------------------------------------------------------------\\n')  # Separator for clarity in output\n",
    "\n",
    "# Insert Books\n",
    "books = [\n",
    "    (\"Atomic Habits\", 1, 15.99),                         # Book by James Clear\n",
    "    (\"Harry Potter and the Sorcerer's Stone\", 2, 20.99), # Book by J.K. Rowling\n",
    "    (\"A Tale of Two Cities\", 3, 10.50),                  # Book by Charles Dickens\n",
    "    (\"Oliver Twist\", 3, 8.99),                           # Another book by Charles Dickens\n",
    "    (\"The Great Gatsby\", 4, 12.75),                      # Book by Anonymous\n",
    "    (\"Harry Potter and the Chamber of Secrets\", 2, 22.49), # Another book by J.K. Rowling\n",
    "    (\"David Copperfield\", 3, 18.30),                     # Book by Charles Dickens\n",
    "    (\"Great Expectations\", 3, 9.80),                     # Another book by Charles Dickens\n",
    "    (\"Hard Times\", 3, 17.60),                            # Another book by Charles Dickens\n",
    "    (\"The Catcher in the Rye\", 4, 13.40),                # Book by Anonymous\n",
    "    (\"Adventures of Huckleberry Finn\", 5, 14.50),        # Book by Mark Twain\n",
    "    (\"The Adventures of Tom Sawyer\", 5, 13.20)           # Another book by Mark Twain\n",
    "]\n",
    "\n",
    "# Check for missing values in books\n",
    "missing_books = check_missing_values(books, [\"Title\", \"AuthorID\", \"Price\"])  # Check for missing data in books\n",
    "if missing_books:\n",
    "    print(\"Missing values in Books:\")  # Notify about missing values in the books dataset\n",
    "    for error in missing_books:\n",
    "        print(error)  # Print details of the missing values\n",
    "else:\n",
    "    # Insert book data into the Books table\n",
    "    cursor.executemany(\"INSERT INTO Books (Title, AuthorID, Price) VALUES (?, ?, ?)\", books)\n",
    "    print(\"Books successfully inserted.\")  # Confirm successful insertion\n",
    "\n",
    "print('\\n----------------------------------------------------------------\\n')  # Separator for clarity in output\n",
    "\n",
    "# Insert Sales\n",
    "sales = [\n",
    "    (1, 5, \"2025-01-01\"),  # 5 copies of book with BookID 1 sold on 2025-01-01\n",
    "    (2, 3, \"2025-01-02\"),  # 3 copies of book with BookID 2 sold on 2025-01-02\n",
    "    (3, 8, \"2025-01-03\"),  # 8 copies of book with BookID 3 sold on 2025-01-03\n",
    "    (4, 2, \"2025-01-04\"),  # 2 copies of book with BookID 4 sold on 2025-01-04\n",
    "    (5, 6, \"2025-01-05\"),  # 6 copies of book with BookID 5 sold on 2025-01-05\n",
    "    (6, 7, \"2025-01-06\"),  # 7 copies of book with BookID 6 sold on 2025-01-06\n",
    "    (7, 1, \"2025-01-07\"),  # 1 copy of book with BookID 7 sold on 2025-01-07\n",
    "    (8, 4, \"2025-01-08\"),  # 4 copies of book with BookID 8 sold on 2025-01-08\n",
    "    (9, 3, \"2025-01-09\"),  # 3 copies of book with BookID 9 sold on 2025-01-09\n",
    "    (10, 2, \"2025-01-10\"), # 2 copies of book with BookID 10 sold on 2025-01-10\n",
    "    (11, 5, \"2025-01-11\"), # 5 copies of book with BookID 11 sold on 2025-01-11\n",
    "    (12, 4, \"2025-01-12\")  # 4 copies of book with BookID 12 sold on 2025-01-12\n",
    "]\n",
    "\n",
    "# Check for missing values in sales\n",
    "missing_sales = check_missing_values(sales, [\"BookID\", \"Quantity\", \"SaleDate\"])  # Check for missing data in sales\n",
    "if missing_sales:\n",
    "    print(\"Missing values in Sales:\")  # Notify about missing values in the sales dataset\n",
    "    for error in missing_sales:\n",
    "        print(error)  # Print details of the missing values\n",
    "else:\n",
    "    # Insert sales data into the Sales table\n",
    "    cursor.executemany(\"INSERT INTO Sales (BookID, Quantity, SaleDate) VALUES (?, ?, ?)\", sales)\n",
    "    print(\"Sales successfully inserted.\")  # Confirm successful insertion\n",
    "\n",
    "print('\\n----------------------------------------------------------------\\n')  # Separator for clarity in output\n",
    "\n",
    "# Commit changes\n",
    "conn.commit()  # Save all changes to the database to ensure data is permanently stored\n",
    "print(\"All changes committed to the database.\")  # Confirm changes have been committed\n"
   ]
  },
  {
   "cell_type": "markdown",
   "metadata": {},
   "source": [
    "#### Requirement 3: Query and Use SQL Joins\n"
   ]
  },
  {
   "cell_type": "code",
   "execution_count": 7,
   "metadata": {},
   "outputs": [
    {
     "name": "stdout",
     "output_type": "stream",
     "text": [
      "Atomic Habits: James Clear \n",
      "Harry Potter and the Sorcerer's Stone: J.K. Rowling \n",
      "A Tale of Two Cities: Charles Dickens \n",
      "Oliver Twist: Charles Dickens \n",
      "The Great Gatsby: Anonymous \n",
      "Harry Potter and the Chamber of Secrets: J.K. Rowling \n",
      "David Copperfield: Charles Dickens \n",
      "Great Expectations: Charles Dickens \n",
      "Hard Times: Charles Dickens \n",
      "The Catcher in the Rye: Anonymous \n",
      "Adventures of Huckleberry Finn: Mark Twain \n",
      "The Adventures of Tom Sawyer: Mark Twain \n"
     ]
    }
   ],
   "source": [
    "# Query 1: Retrieve all books and their authors\n",
    "# The SQL query selects book titles from the \"Books\" table and author names from the \"Authors\" table.\n",
    "# It joins the two tables based on the foreign key relationship between Books.AuthorID and Authors.AuthorID.\n",
    "cursor.execute(\"\"\"\n",
    "SELECT Books.Title, Authors.Name \n",
    "FROM Books \n",
    "JOIN Authors ON Books.AuthorID = Authors.AuthorID;\n",
    "\"\"\")\n",
    "\n",
    "# Fetch all rows resulting from the query execution.\n",
    "books_and_authors = cursor.fetchall()\n",
    "\n",
    "# Iterate through the retrieved rows and print each book title along with its author's name.\n",
    "for book, authors in books_and_authors:\n",
    "    print(f\"{book}: {authors} \")\n"
   ]
  },
  {
   "cell_type": "code",
   "execution_count": 8,
   "metadata": {},
   "outputs": [
    {
     "name": "stdout",
     "output_type": "stream",
     "text": [
      "Book: Atomic Habits, Total Sales: $79.95\n",
      "Book: Harry Potter and the Sorcerer's Stone, Total Sales: $62.97\n",
      "Book: A Tale of Two Cities, Total Sales: $84.00\n",
      "Book: Oliver Twist, Total Sales: $17.98\n",
      "Book: The Great Gatsby, Total Sales: $76.50\n",
      "Book: Harry Potter and the Chamber of Secrets, Total Sales: $157.43\n",
      "Book: David Copperfield, Total Sales: $18.30\n",
      "Book: Great Expectations, Total Sales: $39.20\n",
      "Book: Hard Times, Total Sales: $52.80\n",
      "Book: The Catcher in the Rye, Total Sales: $26.80\n",
      "Book: Adventures of Huckleberry Finn, Total Sales: $72.50\n",
      "Book: The Adventures of Tom Sawyer, Total Sales: $52.80\n"
     ]
    }
   ],
   "source": [
    "# Query 2: Find total sales per book (Quantity * Price)\n",
    "# The SQL query calculates the total sales for each book by multiplying the quantity sold (from the \"Sales\" table)\n",
    "# by the book's price (from the \"Books\" table). It groups the results by each book's ID.\n",
    "cursor.execute(\"\"\"\n",
    "SELECT Books.Title, SUM(Sales.Quantity * Books.Price) AS TotalSales \n",
    "FROM Sales \n",
    "JOIN Books ON Sales.BookID = Books.BookID \n",
    "GROUP BY Books.BookID;\n",
    "\"\"\")\n",
    "\n",
    "# Fetch all rows resulting from the query execution.\n",
    "total_sales = cursor.fetchall()\n",
    "\n",
    "# Iterate through the retrieved rows and print the total sales for each book.\n",
    "# The formatting ensures that the total sales amount is displayed with two decimal places.\n",
    "for book_name, total_sales_amount in total_sales:\n",
    "    print(f\"Book: {book_name}, Total Sales: ${total_sales_amount:.2f}\")"
   ]
  },
  {
   "cell_type": "code",
   "execution_count": 9,
   "metadata": {},
   "outputs": [
    {
     "name": "stdout",
     "output_type": "stream",
     "text": [
      "Book: Atomic Habits, Price: $15.99, Quantity Sold: 5, Sale Date: 2025-01-01\n",
      "Book: Harry Potter and the Sorcerer's Stone, Price: $20.99, Quantity Sold: 3, Sale Date: 2025-01-02\n",
      "Book: A Tale of Two Cities, Price: $10.50, Quantity Sold: 8, Sale Date: 2025-01-03\n",
      "Book: Oliver Twist, Price: $8.99, Quantity Sold: 2, Sale Date: 2025-01-04\n",
      "Book: The Great Gatsby, Price: $12.75, Quantity Sold: 6, Sale Date: 2025-01-05\n",
      "Book: Harry Potter and the Chamber of Secrets, Price: $22.49, Quantity Sold: 7, Sale Date: 2025-01-06\n",
      "Book: David Copperfield, Price: $18.30, Quantity Sold: 1, Sale Date: 2025-01-07\n",
      "Book: Great Expectations, Price: $9.80, Quantity Sold: 4, Sale Date: 2025-01-08\n",
      "Book: Hard Times, Price: $17.60, Quantity Sold: 3, Sale Date: 2025-01-09\n",
      "Book: The Catcher in the Rye, Price: $13.40, Quantity Sold: 2, Sale Date: 2025-01-10\n",
      "Book: Adventures of Huckleberry Finn, Price: $14.50, Quantity Sold: 5, Sale Date: 2025-01-11\n",
      "Book: The Adventures of Tom Sawyer, Price: $13.20, Quantity Sold: 4, Sale Date: 2025-01-12\n"
     ]
    }
   ],
   "source": [
    "# Query 3: Combine data from Books and Sales\n",
    "# The SQL query retrieves the book title, price, quantity sold, and sale date by joining the \"Books\" table with the \"Sales\" table.\n",
    "# It combines data from both tables based on the matching BookID to show relevant information about each book sale.\n",
    "cursor.execute(\"\"\"\n",
    "SELECT Books.Title, Books.Price, Sales.Quantity, Sales.SaleDate \n",
    "FROM Books \n",
    "JOIN Sales ON Books.BookID = Sales.BookID;\n",
    "\"\"\")\n",
    "\n",
    "# Fetch all rows resulting from the query execution.\n",
    "books_sales_data = cursor.fetchall()\n",
    "\n",
    "# Loop through the results and print a descriptive message for each book sale.\n",
    "# The formatted output includes book title, price (with 2 decimal places), quantity sold, and the sale date.\n",
    "for title, price, quantity, sale_date in books_sales_data:\n",
    "    print(f\"Book: {title}, Price: ${price:.2f}, Quantity Sold: {quantity}, Sale Date: {sale_date}\")\n"
   ]
  },
  {
   "cell_type": "code",
   "execution_count": 10,
   "metadata": {},
   "outputs": [],
   "source": [
    "# Close connection\n",
    "conn.close()"
   ]
  }
 ],
 "metadata": {
  "kernelspec": {
   "display_name": "base",
   "language": "python",
   "name": "python3"
  },
  "language_info": {
   "codemirror_mode": {
    "name": "ipython",
    "version": 3
   },
   "file_extension": ".py",
   "mimetype": "text/x-python",
   "name": "python",
   "nbconvert_exporter": "python",
   "pygments_lexer": "ipython3",
   "version": "3.12.7"
  }
 },
 "nbformat": 4,
 "nbformat_minor": 2
}
